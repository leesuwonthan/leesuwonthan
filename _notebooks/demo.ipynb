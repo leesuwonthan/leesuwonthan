{
 "cells": [
  {
   "cell_type": "markdown",
   "id": "e1ed088c",
   "metadata": {},
   "source": [
    "\n",
    "# \"My Title\"\n",
    "> \"Awesome summary\"\n",
    "\n",
    "- toc: true\n",
    "- badges: false\n",
    "- comments: false\n",
    "- author: Jade\n",
    "- categories: [fastpages, jupyter]\n"
   ]
  },
  {
   "cell_type": "raw",
   "id": "932e9fbe",
   "metadata": {},
   "source": [
    "---\n",
    "title: 🚀 Demo notebook\n",
    "description: Simple notebook with widgets demo\n",
    "params:\n",
    "    year:\n",
    "        input: slider\n",
    "        label: Please select the year\n",
    "        min: 2000\n",
    "        max: 2100\n",
    "        value: 2022\n",
    "    greetings:\n",
    "        input: select\n",
    "        label: Please select greetings\n",
    "        value: Hello\n",
    "        choices: [Cześć, Hello, Hi, Ciao, Salut]\n",
    "    name:\n",
    "        input: text\n",
    "        label: What is your name?\n",
    "        value: Piotr\n",
    "    ---"
   ]
  },
  {
   "cell_type": "markdown",
   "id": "3136d84b",
   "metadata": {},
   "source": [
    "# 🚀 Demo notebook with greetings 👋"
   ]
  },
  {
   "cell_type": "code",
   "execution_count": null,
   "id": "4dc25f75",
   "metadata": {},
   "outputs": [],
   "source": [
    "year = 2022\n",
    "greetings = \"Hello\"\n",
    "name = \"Piotr\""
   ]
  },
  {
   "cell_type": "code",
   "execution_count": null,
   "id": "338466dd",
   "metadata": {},
   "outputs": [],
   "source": [
    "print(f\"{greetings} {name} in {year}\")"
   ]
  }
 ],
 "metadata": {
  "kernelspec": {
   "display_name": "Python 3 (ipykernel)",
   "language": "python",
   "name": "python3"
  },
  "language_info": {
   "codemirror_mode": {
    "name": "ipython",
    "version": 3
   },
   "file_extension": ".py",
   "mimetype": "text/x-python",
   "name": "python",
   "nbconvert_exporter": "python",
   "pygments_lexer": "ipython3",
   "version": "3.9.7"
  }
 },
 "nbformat": 4,
 "nbformat_minor": 5
}
